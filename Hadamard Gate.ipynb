{
 "cells": [
  {
   "cell_type": "markdown",
   "metadata": {},
   "source": [
    "# Simulation of Quantum Superposition and Measurement with Qiskit\n"
   ]
  },
  {
   "cell_type": "code",
   "execution_count": 1,
   "metadata": {},
   "outputs": [
    {
     "name": "stdout",
     "output_type": "stream",
     "text": [
      "1.3.1\n"
     ]
    }
   ],
   "source": [
    "import qiskit\n",
    "print (qiskit.__version__)\n"
   ]
  },
  {
   "cell_type": "code",
   "execution_count": null,
   "metadata": {},
   "outputs": [
    {
     "name": "stdout",
     "output_type": "stream",
     "text": [
      "{'0': 4999660, '1': 5000340}\n"
     ]
    }
   ],
   "source": [
    "from qiskit import QuantumCircuit, transpile\n",
    "from qiskit_aer import Aer\n",
    "\n",
    "# Create a simple circuit with 3 qubits \n",
    "circuit = QuantumCircuit(1,1) # 1 qubit and 1 classical bit\n",
    "circuit.h(0) # Hadamard gate\n",
    "circuit.measure(0,0) # measure qubit 0 and store the result in classical bit 0\n",
    "\n",
    "# Select el BackEnd\n",
    "backend = Aer.get_backend('qasm_simulator') # select the simulator than simulates the quantum circuit as if it were executed on a real quantum computer\n",
    "\n",
    "# Transpile the circuit for the selected backend\n",
    "transpiled_circuit = transpile(circuit, backend) # Optimize the circuit for the selected backend if I have a real quantum computer I can optimize the circuit for that specific quantum computer\n",
    "\n",
    "# Execute the circuit on the backend\n",
    "job = backend.run(transpiled_circuit, shots = 1000000)   # Run the circuit on the backend\n",
    "\n",
    "# Get the result of the execution\n",
    "\n",
    "result = job.result() # Get the result of the execution\n",
    "counts = result.get_counts(circuit) # Get the counts of the results\n",
    "print(counts)\n"
   ]
  },
  {
   "cell_type": "code",
   "execution_count": 3,
   "metadata": {},
   "outputs": [
    {
     "name": "stdout",
     "output_type": "stream",
     "text": [
      "Circuito Cuántico:\n",
      "     ┌───┐     ┌─┐   \n",
      "q_0: ┤ H ├──■──┤M├───\n",
      "     └───┘┌─┴─┐└╥┘┌─┐\n",
      "q_1: ─────┤ X ├─╫─┤M├\n",
      "          └───┘ ║ └╥┘\n",
      "c: 2/═══════════╩══╩═\n",
      "                0  1 \n",
      "\n",
      "Resultados de la simulación:\n",
      "{'00': 514, '11': 510}\n"
     ]
    }
   ],
   "source": [
    "from qiskit import QuantumCircuit, transpile\n",
    "from qiskit_aer import Aer\n",
    "\n",
    "# Crear un circuito cuántico con 2 qubits y 2 bits clásicos\n",
    "circuit = QuantumCircuit(2, 2)\n",
    "\n",
    "# Aplicar una puerta Hadamard al primer qubit (superposición)\n",
    "circuit.h(0)\n",
    "\n",
    "# Aplicar una puerta CNOT, entrelazando los qubits\n",
    "circuit.cx(0, 1)\n",
    "\n",
    "# Medir ambos qubits\n",
    "circuit.measure([0, 1], [0, 1])\n",
    "\n",
    "# Dibujar el circuito\n",
    "print(\"Circuito Cuántico:\")\n",
    "print(circuit)\n",
    "\n",
    "# Simular el circuito\n",
    "backend = Aer.get_backend('qasm_simulator')\n",
    "transpiled_circuit = transpile(circuit, backend)\n",
    "job = backend.run(transpiled_circuit, shots=1024)\n",
    "result = job.result()\n",
    "\n",
    "# Obtener los resultados\n",
    "counts = result.get_counts(circuit)\n",
    "print(\"\\nResultados de la simulación:\")\n",
    "print(counts)\n"
   ]
  },
  {
   "cell_type": "code",
   "execution_count": 5,
   "metadata": {},
   "outputs": [],
   "source": [
    "from qiskit.visualization import plot_histogram\n",
    "import matplotlib.pyplot as plt\n",
    "\n",
    "plot_histogram(counts)\n",
    "plt.show()\n"
   ]
  }
 ],
 "metadata": {
  "kernelspec": {
   "display_name": "base",
   "language": "python",
   "name": "python3"
  },
  "language_info": {
   "codemirror_mode": {
    "name": "ipython",
    "version": 3
   },
   "file_extension": ".py",
   "mimetype": "text/x-python",
   "name": "python",
   "nbconvert_exporter": "python",
   "pygments_lexer": "ipython3",
   "version": "3.12.3"
  }
 },
 "nbformat": 4,
 "nbformat_minor": 2
}
